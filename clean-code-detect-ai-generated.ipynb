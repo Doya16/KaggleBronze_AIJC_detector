{
 "cells": [
  {
   "cell_type": "code",
   "execution_count": 1,
   "id": "d513726c",
   "metadata": {
    "execution": {
     "iopub.execute_input": "2024-01-22T13:48:19.597434Z",
     "iopub.status.busy": "2024-01-22T13:48:19.596716Z",
     "iopub.status.idle": "2024-01-22T13:48:19.608714Z",
     "shell.execute_reply": "2024-01-22T13:48:19.607476Z"
    },
    "papermill": {
     "duration": 0.029337,
     "end_time": "2024-01-22T13:48:19.611637",
     "exception": false,
     "start_time": "2024-01-22T13:48:19.582300",
     "status": "completed"
    },
    "tags": []
   },
   "outputs": [],
   "source": [
    "import warnings\n",
    "warnings.filterwarnings('ignore')"
   ]
  },
  {
   "cell_type": "code",
   "execution_count": 2,
   "id": "84f32ea9",
   "metadata": {
    "execution": {
     "iopub.execute_input": "2024-01-22T13:48:19.637557Z",
     "iopub.status.busy": "2024-01-22T13:48:19.637150Z",
     "iopub.status.idle": "2024-01-22T13:48:27.202269Z",
     "shell.execute_reply": "2024-01-22T13:48:27.201103Z"
    },
    "papermill": {
     "duration": 7.58159,
     "end_time": "2024-01-22T13:48:27.205306",
     "exception": false,
     "start_time": "2024-01-22T13:48:19.623716",
     "status": "completed"
    },
    "tags": []
   },
   "outputs": [],
   "source": [
    "from sklearn.feature_extraction.text import TfidfVectorizer\n",
    "from sklearn.model_selection import StratifiedKFold, train_test_split\n",
    "from sklearn.linear_model import SGDClassifier\n",
    "from sklearn.naive_bayes import MultinomialNB\n",
    "from sklearn.ensemble import VotingClassifier, RandomForestClassifier\n",
    "from sklearn.metrics import roc_auc_score\n",
    "from catboost import CatBoostClassifier\n",
    "from lightgbm import LGBMClassifier\n",
    "\n",
    "\n",
    "from transformers import PreTrainedTokenizerFast\n",
    "from tokenizers import (\n",
    "    decoders,\n",
    "    models,\n",
    "    normalizers,\n",
    "    pre_tokenizers,\n",
    "    processors,\n",
    "    trainers,\n",
    "    Tokenizer,\n",
    ")\n",
    "\n",
    "\n",
    "from datasets import Dataset\n",
    "from tqdm.auto import tqdm\n",
    "import pandas as pd\n",
    "import numpy as np\n",
    "import sys\n",
    "import re\n",
    "import pickle\n",
    "from collections import defaultdict\n",
    "import gc"
   ]
  },
  {
   "cell_type": "code",
   "execution_count": 3,
   "id": "526ac08e",
   "metadata": {
    "execution": {
     "iopub.execute_input": "2024-01-22T13:48:27.232250Z",
     "iopub.status.busy": "2024-01-22T13:48:27.231463Z",
     "iopub.status.idle": "2024-01-22T13:48:29.324035Z",
     "shell.execute_reply": "2024-01-22T13:48:29.322608Z"
    },
    "papermill": {
     "duration": 2.109459,
     "end_time": "2024-01-22T13:48:29.327183",
     "exception": false,
     "start_time": "2024-01-22T13:48:27.217724",
     "status": "completed"
    },
    "tags": []
   },
   "outputs": [],
   "source": [
    "from leven_search import LevenSearch, EditCost, EditCostConfig, GranularEditCostConfig\n",
    "\n",
    "with open('/kaggle/usr/lib/install_levenshtein_search_library/leven_search.pkl', 'rb') as file:\n",
    "    lev_search = pickle.load(file)\n"
   ]
  },
  {
   "cell_type": "code",
   "execution_count": 4,
   "id": "0fb6ad17",
   "metadata": {
    "execution": {
     "iopub.execute_input": "2024-01-22T13:48:29.352720Z",
     "iopub.status.busy": "2024-01-22T13:48:29.352232Z",
     "iopub.status.idle": "2024-01-22T13:48:29.368540Z",
     "shell.execute_reply": "2024-01-22T13:48:29.367198Z"
    },
    "papermill": {
     "duration": 0.032653,
     "end_time": "2024-01-22T13:48:29.371404",
     "exception": false,
     "start_time": "2024-01-22T13:48:29.338751",
     "status": "completed"
    },
    "tags": []
   },
   "outputs": [],
   "source": [
    "def sentence_correcter(text):\n",
    "    wrong_words = []\n",
    "    correct_words = dict()\n",
    "\n",
    "    word_list = re.findall(r'\\b\\w+\\b|[.,\\s]', text)\n",
    "\n",
    "    for t in word_list:\n",
    "        correct_word = t\n",
    "\n",
    "        if len(t)>2:\n",
    "            result = lev_search.find_dist(t, max_distance=0)\n",
    "            result = list(result.__dict__['words'].values())\n",
    "#             if not lev_search.find(t):\n",
    "#                 result = lev_search.find_dist(t, max_distance=1)\n",
    "#                 result = list(result.__dict__['words'].values())\n",
    "\n",
    "            if len(result) == 0:\n",
    "                result = lev_search.find_dist(t, max_distance=1)\n",
    "                result = list(result.__dict__['words'].values())\n",
    "                if len(result):\n",
    "                    correct_word = result[0].word\n",
    "                    wrong_words.append((t, result))\n",
    "\n",
    "        correct_words[t] = correct_word\n",
    "\n",
    "    dict_freq = defaultdict(lambda :0)           \n",
    "    for wrong_word in wrong_words:\n",
    "        _, result = wrong_word\n",
    "\n",
    "        for res in result:\n",
    "            updates = res.updates\n",
    "            parts = str(updates[0]).split(\" -> \")\n",
    "            if len(parts) == 2:\n",
    "                from_char = parts[0]\n",
    "                to_char = parts[1]\n",
    "                dict_freq[(from_char, to_char)] += 1\n",
    "\n",
    "    if len(dict_freq):\n",
    "        max_key = max(dict_freq, key=dict_freq.get)\n",
    "        count = dict_freq[max_key]\n",
    "    else:\n",
    "        count = 0\n",
    "\n",
    "    if count > 0.06*len(text.split()):\n",
    "        gec = GranularEditCostConfig(default_cost=10, edit_costs=[EditCost(max_key[0], max_key[1], 1)])\n",
    "\n",
    "        for wrong_word in wrong_words:\n",
    "            word, _ = wrong_word\n",
    "            result = lev_search.find_dist(word, max_distance=9, edit_cost_config=gec)\n",
    "            result = list(result.__dict__['words'].values())\n",
    "            if len(result):\n",
    "                correct_words[word] = result[0].word\n",
    "            else:\n",
    "                correct_word = word\n",
    "\n",
    "\n",
    "    correct_sentence = []\n",
    "    for t in word_list:\n",
    "        correct_sentence.append(correct_words[t])\n",
    "\n",
    "    return \"\".join(correct_sentence)"
   ]
  },
  {
   "cell_type": "code",
   "execution_count": 5,
   "id": "2cef360d",
   "metadata": {
    "execution": {
     "iopub.execute_input": "2024-01-22T13:48:29.397593Z",
     "iopub.status.busy": "2024-01-22T13:48:29.397175Z",
     "iopub.status.idle": "2024-01-22T13:48:31.869108Z",
     "shell.execute_reply": "2024-01-22T13:48:31.867480Z"
    },
    "papermill": {
     "duration": 2.488583,
     "end_time": "2024-01-22T13:48:31.872081",
     "exception": false,
     "start_time": "2024-01-22T13:48:29.383498",
     "status": "completed"
    },
    "tags": []
   },
   "outputs": [],
   "source": [
    "test = pd.read_csv('/kaggle/input/llm-detect-ai-generated-text/test_essays.csv')\n",
    "sub = pd.read_csv('/kaggle/input/llm-detect-ai-generated-text/sample_submission.csv')\n",
    "train = pd.read_csv(\"/kaggle/input/daigt-v2-train-dataset/train_v2_drcat_02.csv\", sep=',')"
   ]
  },
  {
   "cell_type": "code",
   "execution_count": 6,
   "id": "6cf10e68",
   "metadata": {
    "execution": {
     "iopub.execute_input": "2024-01-22T13:48:31.898562Z",
     "iopub.status.busy": "2024-01-22T13:48:31.898164Z",
     "iopub.status.idle": "2024-01-22T13:48:31.920266Z",
     "shell.execute_reply": "2024-01-22T13:48:31.919203Z"
    },
    "papermill": {
     "duration": 0.038574,
     "end_time": "2024-01-22T13:48:31.923280",
     "exception": false,
     "start_time": "2024-01-22T13:48:31.884706",
     "status": "completed"
    },
    "tags": []
   },
   "outputs": [],
   "source": [
    "test['text'] = test['text'].apply(lambda xzq:sentence_correcter(xzq))"
   ]
  },
  {
   "cell_type": "code",
   "execution_count": 7,
   "id": "a164dd07",
   "metadata": {
    "execution": {
     "iopub.execute_input": "2024-01-22T13:48:31.948626Z",
     "iopub.status.busy": "2024-01-22T13:48:31.948215Z",
     "iopub.status.idle": "2024-01-22T13:48:32.051762Z",
     "shell.execute_reply": "2024-01-22T13:48:32.050213Z"
    },
    "papermill": {
     "duration": 0.119745,
     "end_time": "2024-01-22T13:48:32.054795",
     "exception": false,
     "start_time": "2024-01-22T13:48:31.935050",
     "status": "completed"
    },
    "tags": []
   },
   "outputs": [
    {
     "data": {
      "text/html": [
       "<div>\n",
       "<style scoped>\n",
       "    .dataframe tbody tr th:only-of-type {\n",
       "        vertical-align: middle;\n",
       "    }\n",
       "\n",
       "    .dataframe tbody tr th {\n",
       "        vertical-align: top;\n",
       "    }\n",
       "\n",
       "    .dataframe thead th {\n",
       "        text-align: right;\n",
       "    }\n",
       "</style>\n",
       "<table border=\"1\" class=\"dataframe\">\n",
       "  <thead>\n",
       "    <tr style=\"text-align: right;\">\n",
       "      <th></th>\n",
       "      <th>text</th>\n",
       "      <th>label</th>\n",
       "      <th>prompt_name</th>\n",
       "      <th>source</th>\n",
       "      <th>RDizzl3_seven</th>\n",
       "    </tr>\n",
       "  </thead>\n",
       "  <tbody>\n",
       "    <tr>\n",
       "      <th>0</th>\n",
       "      <td>Phones\\n\\nModern humans today are always on th...</td>\n",
       "      <td>0</td>\n",
       "      <td>Phones and driving</td>\n",
       "      <td>persuade_corpus</td>\n",
       "      <td>False</td>\n",
       "    </tr>\n",
       "    <tr>\n",
       "      <th>1</th>\n",
       "      <td>This essay will explain if drivers should or s...</td>\n",
       "      <td>0</td>\n",
       "      <td>Phones and driving</td>\n",
       "      <td>persuade_corpus</td>\n",
       "      <td>False</td>\n",
       "    </tr>\n",
       "    <tr>\n",
       "      <th>2</th>\n",
       "      <td>Driving while the use of cellular devices\\n\\nT...</td>\n",
       "      <td>0</td>\n",
       "      <td>Phones and driving</td>\n",
       "      <td>persuade_corpus</td>\n",
       "      <td>False</td>\n",
       "    </tr>\n",
       "    <tr>\n",
       "      <th>3</th>\n",
       "      <td>Phones &amp; Driving\\n\\nDrivers should not be able...</td>\n",
       "      <td>0</td>\n",
       "      <td>Phones and driving</td>\n",
       "      <td>persuade_corpus</td>\n",
       "      <td>False</td>\n",
       "    </tr>\n",
       "    <tr>\n",
       "      <th>4</th>\n",
       "      <td>Cell Phone Operation While Driving\\n\\nThe abil...</td>\n",
       "      <td>0</td>\n",
       "      <td>Phones and driving</td>\n",
       "      <td>persuade_corpus</td>\n",
       "      <td>False</td>\n",
       "    </tr>\n",
       "  </tbody>\n",
       "</table>\n",
       "</div>"
      ],
      "text/plain": [
       "                                                text  label  \\\n",
       "0  Phones\\n\\nModern humans today are always on th...      0   \n",
       "1  This essay will explain if drivers should or s...      0   \n",
       "2  Driving while the use of cellular devices\\n\\nT...      0   \n",
       "3  Phones & Driving\\n\\nDrivers should not be able...      0   \n",
       "4  Cell Phone Operation While Driving\\n\\nThe abil...      0   \n",
       "\n",
       "          prompt_name           source  RDizzl3_seven  \n",
       "0  Phones and driving  persuade_corpus          False  \n",
       "1  Phones and driving  persuade_corpus          False  \n",
       "2  Phones and driving  persuade_corpus          False  \n",
       "3  Phones and driving  persuade_corpus          False  \n",
       "4  Phones and driving  persuade_corpus          False  "
      ]
     },
     "execution_count": 7,
     "metadata": {},
     "output_type": "execute_result"
    }
   ],
   "source": [
    "train = train.drop_duplicates(subset=['text'])\n",
    "train.reset_index(drop=True, inplace=True)\n",
    "train.head()"
   ]
  },
  {
   "cell_type": "code",
   "execution_count": 8,
   "id": "c86d0f4f",
   "metadata": {
    "execution": {
     "iopub.execute_input": "2024-01-22T13:48:32.081275Z",
     "iopub.status.busy": "2024-01-22T13:48:32.080873Z",
     "iopub.status.idle": "2024-01-22T13:48:32.114495Z",
     "shell.execute_reply": "2024-01-22T13:48:32.113021Z"
    },
    "papermill": {
     "duration": 0.050017,
     "end_time": "2024-01-22T13:48:32.117376",
     "exception": false,
     "start_time": "2024-01-22T13:48:32.067359",
     "status": "completed"
    },
    "tags": []
   },
   "outputs": [],
   "source": [
    "excluded_prompt_name_list = ['Distance learning','Grades for extracurricular activities','Summer projects']\n",
    "train = train[~(train['prompt_name'].isin(excluded_prompt_name_list))]\n",
    "train = train.drop_duplicates(subset=['text'])\n",
    "train.reset_index(drop=True, inplace=True)"
   ]
  },
  {
   "cell_type": "code",
   "execution_count": 9,
   "id": "5205c632",
   "metadata": {
    "execution": {
     "iopub.execute_input": "2024-01-22T13:48:32.143651Z",
     "iopub.status.busy": "2024-01-22T13:48:32.143215Z",
     "iopub.status.idle": "2024-01-22T13:48:32.151566Z",
     "shell.execute_reply": "2024-01-22T13:48:32.150188Z"
    },
    "papermill": {
     "duration": 0.02434,
     "end_time": "2024-01-22T13:48:32.154080",
     "exception": false,
     "start_time": "2024-01-22T13:48:32.129740",
     "status": "completed"
    },
    "tags": []
   },
   "outputs": [
    {
     "data": {
      "text/plain": [
       "array(['Aaa bbb ccc.', 'Bbb ccc idd.', 'CCC idd eee.'], dtype=object)"
      ]
     },
     "execution_count": 9,
     "metadata": {},
     "output_type": "execute_result"
    }
   ],
   "source": [
    "test.text.values"
   ]
  },
  {
   "cell_type": "code",
   "execution_count": 10,
   "id": "963ec9f7",
   "metadata": {
    "execution": {
     "iopub.execute_input": "2024-01-22T13:48:32.180118Z",
     "iopub.status.busy": "2024-01-22T13:48:32.179679Z",
     "iopub.status.idle": "2024-01-22T13:48:32.185182Z",
     "shell.execute_reply": "2024-01-22T13:48:32.183906Z"
    },
    "papermill": {
     "duration": 0.021406,
     "end_time": "2024-01-22T13:48:32.187692",
     "exception": false,
     "start_time": "2024-01-22T13:48:32.166286",
     "status": "completed"
    },
    "tags": []
   },
   "outputs": [],
   "source": [
    "LOWERCASE = False\n",
    "VOCAB_SIZE = 14_000_000"
   ]
  },
  {
   "cell_type": "code",
   "execution_count": 11,
   "id": "65941175",
   "metadata": {
    "execution": {
     "iopub.execute_input": "2024-01-22T13:48:32.214228Z",
     "iopub.status.busy": "2024-01-22T13:48:32.213762Z",
     "iopub.status.idle": "2024-01-22T13:50:26.375693Z",
     "shell.execute_reply": "2024-01-22T13:50:26.374501Z"
    },
    "papermill": {
     "duration": 114.178543,
     "end_time": "2024-01-22T13:50:26.378570",
     "exception": false,
     "start_time": "2024-01-22T13:48:32.200027",
     "status": "completed"
    },
    "tags": []
   },
   "outputs": [
    {
     "name": "stdout",
     "output_type": "stream",
     "text": [
      "\n",
      "\n",
      "\n"
     ]
    },
    {
     "data": {
      "application/vnd.jupyter.widget-view+json": {
       "model_id": "83451f45366545d8a29e0f9cff02d488",
       "version_major": 2,
       "version_minor": 0
      },
      "text/plain": [
       "  0%|          | 0/3 [00:00<?, ?it/s]"
      ]
     },
     "metadata": {},
     "output_type": "display_data"
    },
    {
     "data": {
      "application/vnd.jupyter.widget-view+json": {
       "model_id": "be7834983610485ebeb08a73a7946916",
       "version_major": 2,
       "version_minor": 0
      },
      "text/plain": [
       "  0%|          | 0/34497 [00:00<?, ?it/s]"
      ]
     },
     "metadata": {},
     "output_type": "display_data"
    }
   ],
   "source": [
    "# Creating Byte-Pair Encoding tokenizer\n",
    "raw_tokenizer = Tokenizer(models.BPE(unk_token=\"[UNK]\"))\n",
    "\n",
    "\n",
    "# Adding normalization and pre_tokenizer\n",
    "raw_tokenizer.normalizer = normalizers.Sequence(\n",
    "    [normalizers.NFC()] + [normalizers.Lowercase()] \n",
    "    if LOWERCASE else []\n",
    ")\n",
    "\n",
    "\n",
    "raw_tokenizer.pre_tokenizer = pre_tokenizers.ByteLevel()\n",
    "\n",
    "# Adding special tokens and creating trainer instance\n",
    "special_tokens = [\"[UNK]\", \"[PAD]\", \"[CLS]\", \"[SEP]\", \"[MASK]\"]\n",
    "trainer = trainers.BpeTrainer(\n",
    "    vocab_size=VOCAB_SIZE, \n",
    "    special_tokens=special_tokens\n",
    ")\n",
    "\n",
    "\n",
    "# Creating huggingface dataset object\n",
    "dataset = Dataset.from_pandas(test[['text']])\n",
    "\n",
    "def train_corp_iter():\n",
    "    \"\"\"\n",
    "    A generator function for iterating over a dataset in chunks.\n",
    "    \"\"\"    \n",
    "    for i in range(0, len(dataset), 1000):\n",
    "        yield dataset[i : i + 1000][\"text\"]\n",
    "\n",
    "# Training from iterator REMEMBER it's training on test set...\n",
    "raw_tokenizer.train_from_iterator(train_corp_iter(), trainer=trainer)\n",
    "\n",
    "tokenizer = PreTrainedTokenizerFast(\n",
    "    tokenizer_object=raw_tokenizer,\n",
    "    unk_token  = \"[UNK]\",\n",
    "    pad_token  = \"[PAD]\",\n",
    "    cls_token  = \"[CLS]\",\n",
    "    sep_token  = \"[SEP]\",\n",
    "    mask_token = \"[MASK]\",\n",
    ")\n",
    "\n",
    "\n",
    "\n",
    "# Tokenize test set with new tokenizer\n",
    "tokenized_texts_test = []\n",
    "for text in tqdm(test['text'].tolist()):\n",
    "    tokenized_texts_test.append(tokenizer.tokenize(text))\n",
    "\n",
    "\n",
    "# Tokenize train set\n",
    "tokenized_texts_train = []\n",
    "for text in tqdm(train['text'].tolist()):\n",
    "    tokenized_texts_train.append(tokenizer.tokenize(text))"
   ]
  },
  {
   "cell_type": "code",
   "execution_count": 12,
   "id": "46bca630",
   "metadata": {
    "execution": {
     "iopub.execute_input": "2024-01-22T13:50:26.406397Z",
     "iopub.status.busy": "2024-01-22T13:50:26.405952Z",
     "iopub.status.idle": "2024-01-22T13:50:26.412968Z",
     "shell.execute_reply": "2024-01-22T13:50:26.411791Z"
    },
    "papermill": {
     "duration": 0.023818,
     "end_time": "2024-01-22T13:50:26.415528",
     "exception": false,
     "start_time": "2024-01-22T13:50:26.391710",
     "status": "completed"
    },
    "tags": []
   },
   "outputs": [
    {
     "name": "stdout",
     "output_type": "stream",
     "text": [
      "['ĠBbb', 'Ġccc', 'Ġidd', '.']\n",
      "\n",
      "['ĠCCC', 'Ġidd', 'Ġeee', '.']\n"
     ]
    }
   ],
   "source": [
    "print(tokenized_texts_test[1])\n",
    "print()\n",
    "print(tokenized_texts_test[2])"
   ]
  },
  {
   "cell_type": "code",
   "execution_count": 13,
   "id": "6c72dd03",
   "metadata": {
    "execution": {
     "iopub.execute_input": "2024-01-22T13:50:26.443519Z",
     "iopub.status.busy": "2024-01-22T13:50:26.443095Z",
     "iopub.status.idle": "2024-01-22T13:54:10.199329Z",
     "shell.execute_reply": "2024-01-22T13:54:10.198073Z"
    },
    "papermill": {
     "duration": 223.786028,
     "end_time": "2024-01-22T13:54:10.214968",
     "exception": false,
     "start_time": "2024-01-22T13:50:26.428940",
     "status": "completed"
    },
    "tags": []
   },
   "outputs": [
    {
     "name": "stdout",
     "output_type": "stream",
     "text": [
      "{'ĠAaa Ġbbb Ġccc': 0, 'Ġbbb Ġccc .': 6, 'ĠAaa Ġbbb Ġccc .': 1, 'ĠBbb Ġccc Ġidd': 2, 'Ġccc Ġidd .': 7, 'ĠBbb Ġccc Ġidd .': 3, 'ĠCCC Ġidd Ġeee': 4, 'Ġidd Ġeee .': 8, 'ĠCCC Ġidd Ġeee .': 5}\n"
     ]
    },
    {
     "data": {
      "text/plain": [
       "23"
      ]
     },
     "execution_count": 13,
     "metadata": {},
     "output_type": "execute_result"
    }
   ],
   "source": [
    "def dummy(text):\n",
    "    \"\"\"\n",
    "    A dummy function to use as tokenizer for TfidfVectorizer. \n",
    "    It returns the text as it is since we already tokenized it.\n",
    "    \"\"\"\n",
    "    return text\n",
    "\n",
    "\n",
    "\n",
    "# Fitting TfidfVectoizer on test set\n",
    "vectorizer = TfidfVectorizer(\n",
    "    ngram_range   = (3, 5), \n",
    "    lowercase     = False,\n",
    "    min_df = 0,\n",
    "    max_df = 0.9,\n",
    "    sublinear_tf  = True, \n",
    "    analyzer      = 'word',\n",
    "    tokenizer     = dummy,\n",
    "    preprocessor  = dummy,\n",
    "    token_pattern = None, \n",
    "    strip_accents ='unicode')\n",
    "    \n",
    "\n",
    "\n",
    "vectorizer.fit(tokenized_texts_test)\n",
    "\n",
    "# Getting vocab\n",
    "vocab = vectorizer.vocabulary_\n",
    "print(vocab)\n",
    "\n",
    "\n",
    "# Here we fit our vectorizer on train set but this time we use vocabulary from test fit.\n",
    "vectorizer = TfidfVectorizer(\n",
    "    ngram_range    = (3, 5), \n",
    "    lowercase      = False, \n",
    "    sublinear_tf   = True, \n",
    "    vocabulary     = vocab,\n",
    "    analyzer       = 'word',\n",
    "    max_features = 4000000,\n",
    "    tokenizer      = dummy,\n",
    "    preprocessor   = dummy,\n",
    "    token_pattern  = None, \n",
    "    strip_accents  ='unicode')\n",
    "\n",
    "tf_train = vectorizer.fit_transform(tokenized_texts_train)\n",
    "tf_test = vectorizer.transform(tokenized_texts_test)\n",
    "del vectorizer\n",
    "gc.collect()"
   ]
  },
  {
   "cell_type": "code",
   "execution_count": 14,
   "id": "199df265",
   "metadata": {
    "execution": {
     "iopub.execute_input": "2024-01-22T13:54:10.243746Z",
     "iopub.status.busy": "2024-01-22T13:54:10.243354Z",
     "iopub.status.idle": "2024-01-22T13:54:10.248738Z",
     "shell.execute_reply": "2024-01-22T13:54:10.247590Z"
    },
    "papermill": {
     "duration": 0.022686,
     "end_time": "2024-01-22T13:54:10.251180",
     "exception": false,
     "start_time": "2024-01-22T13:54:10.228494",
     "status": "completed"
    },
    "tags": []
   },
   "outputs": [],
   "source": [
    "y_train_label = train['label'].values"
   ]
  },
  {
   "cell_type": "code",
   "execution_count": 15,
   "id": "e5302251",
   "metadata": {
    "execution": {
     "iopub.execute_input": "2024-01-22T13:54:10.279520Z",
     "iopub.status.busy": "2024-01-22T13:54:10.279112Z",
     "iopub.status.idle": "2024-01-22T13:54:10.286853Z",
     "shell.execute_reply": "2024-01-22T13:54:10.285660Z"
    },
    "papermill": {
     "duration": 0.024796,
     "end_time": "2024-01-22T13:54:10.289168",
     "exception": false,
     "start_time": "2024-01-22T13:54:10.264372",
     "status": "completed"
    },
    "tags": []
   },
   "outputs": [
    {
     "data": {
      "text/plain": [
       "<34497x9 sparse matrix of type '<class 'numpy.float64'>'\n",
       "\twith 0 stored elements in Compressed Sparse Row format>"
      ]
     },
     "execution_count": 15,
     "metadata": {},
     "output_type": "execute_result"
    }
   ],
   "source": [
    "tf_train"
   ]
  },
  {
   "cell_type": "code",
   "execution_count": 16,
   "id": "64538961",
   "metadata": {
    "execution": {
     "iopub.execute_input": "2024-01-22T13:54:10.317916Z",
     "iopub.status.busy": "2024-01-22T13:54:10.317486Z",
     "iopub.status.idle": "2024-01-22T13:54:10.324434Z",
     "shell.execute_reply": "2024-01-22T13:54:10.323336Z"
    },
    "papermill": {
     "duration": 0.024212,
     "end_time": "2024-01-22T13:54:10.326730",
     "exception": false,
     "start_time": "2024-01-22T13:54:10.302518",
     "status": "completed"
    },
    "tags": []
   },
   "outputs": [
    {
     "data": {
      "text/plain": [
       "(34497, 9)"
      ]
     },
     "execution_count": 16,
     "metadata": {},
     "output_type": "execute_result"
    }
   ],
   "source": [
    "tf_train.shape"
   ]
  },
  {
   "cell_type": "code",
   "execution_count": 17,
   "id": "d0b4cdfe",
   "metadata": {
    "execution": {
     "iopub.execute_input": "2024-01-22T13:54:10.357727Z",
     "iopub.status.busy": "2024-01-22T13:54:10.357240Z",
     "iopub.status.idle": "2024-01-22T13:54:10.366087Z",
     "shell.execute_reply": "2024-01-22T13:54:10.364741Z"
    },
    "papermill": {
     "duration": 0.028073,
     "end_time": "2024-01-22T13:54:10.368785",
     "exception": false,
     "start_time": "2024-01-22T13:54:10.340712",
     "status": "completed"
    },
    "tags": []
   },
   "outputs": [
    {
     "data": {
      "text/plain": [
       "(3, 9)"
      ]
     },
     "execution_count": 17,
     "metadata": {},
     "output_type": "execute_result"
    }
   ],
   "source": [
    "tf_test.shape"
   ]
  },
  {
   "cell_type": "code",
   "execution_count": 18,
   "id": "f59b00b5",
   "metadata": {
    "execution": {
     "iopub.execute_input": "2024-01-22T13:54:10.400055Z",
     "iopub.status.busy": "2024-01-22T13:54:10.399604Z",
     "iopub.status.idle": "2024-01-22T13:54:10.416373Z",
     "shell.execute_reply": "2024-01-22T13:54:10.415093Z"
    },
    "papermill": {
     "duration": 0.035224,
     "end_time": "2024-01-22T13:54:10.419279",
     "exception": false,
     "start_time": "2024-01-22T13:54:10.384055",
     "status": "completed"
    },
    "tags": []
   },
   "outputs": [],
   "source": [
    "if len(test.text.values) <= 5:\n",
    "    sub.to_csv('submission.csv', index=False)\n",
    "else:\n",
    "    clf = MultinomialNB(alpha=0.0225)\n",
    "    \n",
    "    sgd_model = SGDClassifier(\n",
    "        max_iter     = 9000, \n",
    "        tol          = 1e-4, \n",
    "        random_state = 6743,\n",
    "        loss         = \"modified_huber\"\n",
    "    ) \n",
    "    \n",
    "    p={\n",
    "        'verbose'          : -1,\n",
    "        'n_iter'           : 3000,\n",
    "        'colsample_bytree' : 0.7800,\n",
    "        'colsample_bynode' : 0.8000, \n",
    "        'random_state'     : 6743,\n",
    "        'metric'           : 'auc',\n",
    "        'objective'        : 'cross_entropy',\n",
    "        'learning_rate'    : 0.00581909898961407, \n",
    "      }\n",
    "    lgb=LGBMClassifier(**p)\n",
    "    \n",
    "    \n",
    "    cat = CatBoostClassifier(\n",
    "        iterations        = 3000,\n",
    "        verbose           = 0,\n",
    "        subsample         = 0.35,\n",
    "        random_seed       = 6543,\n",
    "        allow_const_label = True,\n",
    "        loss_function     = 'CrossEntropy',\n",
    "        learning_rate     = 0.005599066836106983,\n",
    "    )\n",
    "    \n",
    "    \n",
    "    ensemble = VotingClassifier(\n",
    "        estimators = [('mnb', clf),\n",
    "                      ('sgd', sgd_model),\n",
    "                      ('lgb', lgb), \n",
    "                      ('cat', cat)],\n",
    "        weights    = [0.1, 0.31, 0.28, 0.80], \n",
    "        voting     = 'soft', \n",
    "        n_jobs     = -1\n",
    "    )\n",
    "    \n",
    "    ensemble.fit(tf_train, y_train_label)\n",
    "    gc.collect()\n",
    "    \n",
    "    final_preds = ensemble.predict_proba(tf_test)[:,1]\n",
    "    sub['generated'] = final_preds\n",
    "    sub.to_csv('submission.csv', index=False)\n",
    "    sub.head()"
   ]
  }
 ],
 "metadata": {
  "kaggle": {
   "accelerator": "none",
   "dataSources": [
    {
     "databundleVersionId": 7516023,
     "sourceId": 61542,
     "sourceType": "competition"
    },
    {
     "datasetId": 4005256,
     "sourceId": 6977472,
     "sourceType": "datasetVersion"
    },
    {
     "sourceId": 159219517,
     "sourceType": "kernelVersion"
    }
   ],
   "dockerImageVersionId": 30559,
   "isGpuEnabled": false,
   "isInternetEnabled": false,
   "language": "python",
   "sourceType": "notebook"
  },
  "kernelspec": {
   "display_name": "Python 3",
   "language": "python",
   "name": "python3"
  },
  "language_info": {
   "codemirror_mode": {
    "name": "ipython",
    "version": 3
   },
   "file_extension": ".py",
   "mimetype": "text/x-python",
   "name": "python",
   "nbconvert_exporter": "python",
   "pygments_lexer": "ipython3",
   "version": "3.10.12"
  },
  "papermill": {
   "default_parameters": {},
   "duration": 358.298451,
   "end_time": "2024-01-22T13:54:13.358204",
   "environment_variables": {},
   "exception": null,
   "input_path": "__notebook__.ipynb",
   "output_path": "__notebook__.ipynb",
   "parameters": {},
   "start_time": "2024-01-22T13:48:15.059753",
   "version": "2.4.0"
  },
  "widgets": {
   "application/vnd.jupyter.widget-state+json": {
    "state": {
     "013e2e7b7d0745adb3c59fe378dcad46": {
      "model_module": "@jupyter-widgets/controls",
      "model_module_version": "1.5.0",
      "model_name": "HTMLModel",
      "state": {
       "_dom_classes": [],
       "_model_module": "@jupyter-widgets/controls",
       "_model_module_version": "1.5.0",
       "_model_name": "HTMLModel",
       "_view_count": null,
       "_view_module": "@jupyter-widgets/controls",
       "_view_module_version": "1.5.0",
       "_view_name": "HTMLView",
       "description": "",
       "description_tooltip": null,
       "layout": "IPY_MODEL_52cd07a88fa04480a8e6093582eefaa4",
       "placeholder": "​",
       "style": "IPY_MODEL_b68c51b31ab14bfeb418d927a9953c72",
       "value": " 3/3 [00:00&lt;00:00, 166.27it/s]"
      }
     },
     "086c01ce613f41d3ac56955b79649bc1": {
      "model_module": "@jupyter-widgets/controls",
      "model_module_version": "1.5.0",
      "model_name": "ProgressStyleModel",
      "state": {
       "_model_module": "@jupyter-widgets/controls",
       "_model_module_version": "1.5.0",
       "_model_name": "ProgressStyleModel",
       "_view_count": null,
       "_view_module": "@jupyter-widgets/base",
       "_view_module_version": "1.2.0",
       "_view_name": "StyleView",
       "bar_color": null,
       "description_width": ""
      }
     },
     "0b30f970c6f34f2d9c6b7a40339edc30": {
      "model_module": "@jupyter-widgets/controls",
      "model_module_version": "1.5.0",
      "model_name": "FloatProgressModel",
      "state": {
       "_dom_classes": [],
       "_model_module": "@jupyter-widgets/controls",
       "_model_module_version": "1.5.0",
       "_model_name": "FloatProgressModel",
       "_view_count": null,
       "_view_module": "@jupyter-widgets/controls",
       "_view_module_version": "1.5.0",
       "_view_name": "ProgressView",
       "bar_style": "success",
       "description": "",
       "description_tooltip": null,
       "layout": "IPY_MODEL_4372abd0ad4a49eea27a881382240266",
       "max": 34497.0,
       "min": 0.0,
       "orientation": "horizontal",
       "style": "IPY_MODEL_086c01ce613f41d3ac56955b79649bc1",
       "value": 34497.0
      }
     },
     "394780cad90a4c39a027e03443abb2b3": {
      "model_module": "@jupyter-widgets/controls",
      "model_module_version": "1.5.0",
      "model_name": "HTMLModel",
      "state": {
       "_dom_classes": [],
       "_model_module": "@jupyter-widgets/controls",
       "_model_module_version": "1.5.0",
       "_model_name": "HTMLModel",
       "_view_count": null,
       "_view_module": "@jupyter-widgets/controls",
       "_view_module_version": "1.5.0",
       "_view_name": "HTMLView",
       "description": "",
       "description_tooltip": null,
       "layout": "IPY_MODEL_52f9a5feae5a4d0583a5ba14410fe20e",
       "placeholder": "​",
       "style": "IPY_MODEL_e8d5667312004fe4985571acbefa2b02",
       "value": "100%"
      }
     },
     "3aeb96b0a2d84aafb68fa62e2d156667": {
      "model_module": "@jupyter-widgets/base",
      "model_module_version": "1.2.0",
      "model_name": "LayoutModel",
      "state": {
       "_model_module": "@jupyter-widgets/base",
       "_model_module_version": "1.2.0",
       "_model_name": "LayoutModel",
       "_view_count": null,
       "_view_module": "@jupyter-widgets/base",
       "_view_module_version": "1.2.0",
       "_view_name": "LayoutView",
       "align_content": null,
       "align_items": null,
       "align_self": null,
       "border": null,
       "bottom": null,
       "display": null,
       "flex": null,
       "flex_flow": null,
       "grid_area": null,
       "grid_auto_columns": null,
       "grid_auto_flow": null,
       "grid_auto_rows": null,
       "grid_column": null,
       "grid_gap": null,
       "grid_row": null,
       "grid_template_areas": null,
       "grid_template_columns": null,
       "grid_template_rows": null,
       "height": null,
       "justify_content": null,
       "justify_items": null,
       "left": null,
       "margin": null,
       "max_height": null,
       "max_width": null,
       "min_height": null,
       "min_width": null,
       "object_fit": null,
       "object_position": null,
       "order": null,
       "overflow": null,
       "overflow_x": null,
       "overflow_y": null,
       "padding": null,
       "right": null,
       "top": null,
       "visibility": null,
       "width": null
      }
     },
     "4372abd0ad4a49eea27a881382240266": {
      "model_module": "@jupyter-widgets/base",
      "model_module_version": "1.2.0",
      "model_name": "LayoutModel",
      "state": {
       "_model_module": "@jupyter-widgets/base",
       "_model_module_version": "1.2.0",
       "_model_name": "LayoutModel",
       "_view_count": null,
       "_view_module": "@jupyter-widgets/base",
       "_view_module_version": "1.2.0",
       "_view_name": "LayoutView",
       "align_content": null,
       "align_items": null,
       "align_self": null,
       "border": null,
       "bottom": null,
       "display": null,
       "flex": null,
       "flex_flow": null,
       "grid_area": null,
       "grid_auto_columns": null,
       "grid_auto_flow": null,
       "grid_auto_rows": null,
       "grid_column": null,
       "grid_gap": null,
       "grid_row": null,
       "grid_template_areas": null,
       "grid_template_columns": null,
       "grid_template_rows": null,
       "height": null,
       "justify_content": null,
       "justify_items": null,
       "left": null,
       "margin": null,
       "max_height": null,
       "max_width": null,
       "min_height": null,
       "min_width": null,
       "object_fit": null,
       "object_position": null,
       "order": null,
       "overflow": null,
       "overflow_x": null,
       "overflow_y": null,
       "padding": null,
       "right": null,
       "top": null,
       "visibility": null,
       "width": null
      }
     },
     "4ef91e8d2a7c48bb989b7f96040c8adc": {
      "model_module": "@jupyter-widgets/base",
      "model_module_version": "1.2.0",
      "model_name": "LayoutModel",
      "state": {
       "_model_module": "@jupyter-widgets/base",
       "_model_module_version": "1.2.0",
       "_model_name": "LayoutModel",
       "_view_count": null,
       "_view_module": "@jupyter-widgets/base",
       "_view_module_version": "1.2.0",
       "_view_name": "LayoutView",
       "align_content": null,
       "align_items": null,
       "align_self": null,
       "border": null,
       "bottom": null,
       "display": null,
       "flex": null,
       "flex_flow": null,
       "grid_area": null,
       "grid_auto_columns": null,
       "grid_auto_flow": null,
       "grid_auto_rows": null,
       "grid_column": null,
       "grid_gap": null,
       "grid_row": null,
       "grid_template_areas": null,
       "grid_template_columns": null,
       "grid_template_rows": null,
       "height": null,
       "justify_content": null,
       "justify_items": null,
       "left": null,
       "margin": null,
       "max_height": null,
       "max_width": null,
       "min_height": null,
       "min_width": null,
       "object_fit": null,
       "object_position": null,
       "order": null,
       "overflow": null,
       "overflow_x": null,
       "overflow_y": null,
       "padding": null,
       "right": null,
       "top": null,
       "visibility": null,
       "width": null
      }
     },
     "52cd07a88fa04480a8e6093582eefaa4": {
      "model_module": "@jupyter-widgets/base",
      "model_module_version": "1.2.0",
      "model_name": "LayoutModel",
      "state": {
       "_model_module": "@jupyter-widgets/base",
       "_model_module_version": "1.2.0",
       "_model_name": "LayoutModel",
       "_view_count": null,
       "_view_module": "@jupyter-widgets/base",
       "_view_module_version": "1.2.0",
       "_view_name": "LayoutView",
       "align_content": null,
       "align_items": null,
       "align_self": null,
       "border": null,
       "bottom": null,
       "display": null,
       "flex": null,
       "flex_flow": null,
       "grid_area": null,
       "grid_auto_columns": null,
       "grid_auto_flow": null,
       "grid_auto_rows": null,
       "grid_column": null,
       "grid_gap": null,
       "grid_row": null,
       "grid_template_areas": null,
       "grid_template_columns": null,
       "grid_template_rows": null,
       "height": null,
       "justify_content": null,
       "justify_items": null,
       "left": null,
       "margin": null,
       "max_height": null,
       "max_width": null,
       "min_height": null,
       "min_width": null,
       "object_fit": null,
       "object_position": null,
       "order": null,
       "overflow": null,
       "overflow_x": null,
       "overflow_y": null,
       "padding": null,
       "right": null,
       "top": null,
       "visibility": null,
       "width": null
      }
     },
     "52f9a5feae5a4d0583a5ba14410fe20e": {
      "model_module": "@jupyter-widgets/base",
      "model_module_version": "1.2.0",
      "model_name": "LayoutModel",
      "state": {
       "_model_module": "@jupyter-widgets/base",
       "_model_module_version": "1.2.0",
       "_model_name": "LayoutModel",
       "_view_count": null,
       "_view_module": "@jupyter-widgets/base",
       "_view_module_version": "1.2.0",
       "_view_name": "LayoutView",
       "align_content": null,
       "align_items": null,
       "align_self": null,
       "border": null,
       "bottom": null,
       "display": null,
       "flex": null,
       "flex_flow": null,
       "grid_area": null,
       "grid_auto_columns": null,
       "grid_auto_flow": null,
       "grid_auto_rows": null,
       "grid_column": null,
       "grid_gap": null,
       "grid_row": null,
       "grid_template_areas": null,
       "grid_template_columns": null,
       "grid_template_rows": null,
       "height": null,
       "justify_content": null,
       "justify_items": null,
       "left": null,
       "margin": null,
       "max_height": null,
       "max_width": null,
       "min_height": null,
       "min_width": null,
       "object_fit": null,
       "object_position": null,
       "order": null,
       "overflow": null,
       "overflow_x": null,
       "overflow_y": null,
       "padding": null,
       "right": null,
       "top": null,
       "visibility": null,
       "width": null
      }
     },
     "55c3fc92f333440489493160352d7018": {
      "model_module": "@jupyter-widgets/base",
      "model_module_version": "1.2.0",
      "model_name": "LayoutModel",
      "state": {
       "_model_module": "@jupyter-widgets/base",
       "_model_module_version": "1.2.0",
       "_model_name": "LayoutModel",
       "_view_count": null,
       "_view_module": "@jupyter-widgets/base",
       "_view_module_version": "1.2.0",
       "_view_name": "LayoutView",
       "align_content": null,
       "align_items": null,
       "align_self": null,
       "border": null,
       "bottom": null,
       "display": null,
       "flex": null,
       "flex_flow": null,
       "grid_area": null,
       "grid_auto_columns": null,
       "grid_auto_flow": null,
       "grid_auto_rows": null,
       "grid_column": null,
       "grid_gap": null,
       "grid_row": null,
       "grid_template_areas": null,
       "grid_template_columns": null,
       "grid_template_rows": null,
       "height": null,
       "justify_content": null,
       "justify_items": null,
       "left": null,
       "margin": null,
       "max_height": null,
       "max_width": null,
       "min_height": null,
       "min_width": null,
       "object_fit": null,
       "object_position": null,
       "order": null,
       "overflow": null,
       "overflow_x": null,
       "overflow_y": null,
       "padding": null,
       "right": null,
       "top": null,
       "visibility": null,
       "width": null
      }
     },
     "5d07c98313b24979951038ca4717ffac": {
      "model_module": "@jupyter-widgets/controls",
      "model_module_version": "1.5.0",
      "model_name": "DescriptionStyleModel",
      "state": {
       "_model_module": "@jupyter-widgets/controls",
       "_model_module_version": "1.5.0",
       "_model_name": "DescriptionStyleModel",
       "_view_count": null,
       "_view_module": "@jupyter-widgets/base",
       "_view_module_version": "1.2.0",
       "_view_name": "StyleView",
       "description_width": ""
      }
     },
     "6de88ce38774442f90dec760acec8505": {
      "model_module": "@jupyter-widgets/controls",
      "model_module_version": "1.5.0",
      "model_name": "HTMLModel",
      "state": {
       "_dom_classes": [],
       "_model_module": "@jupyter-widgets/controls",
       "_model_module_version": "1.5.0",
       "_model_name": "HTMLModel",
       "_view_count": null,
       "_view_module": "@jupyter-widgets/controls",
       "_view_module_version": "1.5.0",
       "_view_name": "HTMLView",
       "description": "",
       "description_tooltip": null,
       "layout": "IPY_MODEL_55c3fc92f333440489493160352d7018",
       "placeholder": "​",
       "style": "IPY_MODEL_c1f6650722434d659569da3fa83038f5",
       "value": " 34497/34497 [01:54&lt;00:00, 303.38it/s]"
      }
     },
     "83451f45366545d8a29e0f9cff02d488": {
      "model_module": "@jupyter-widgets/controls",
      "model_module_version": "1.5.0",
      "model_name": "HBoxModel",
      "state": {
       "_dom_classes": [],
       "_model_module": "@jupyter-widgets/controls",
       "_model_module_version": "1.5.0",
       "_model_name": "HBoxModel",
       "_view_count": null,
       "_view_module": "@jupyter-widgets/controls",
       "_view_module_version": "1.5.0",
       "_view_name": "HBoxView",
       "box_style": "",
       "children": [
        "IPY_MODEL_394780cad90a4c39a027e03443abb2b3",
        "IPY_MODEL_a769299d33aa4bed82dbcb8ced62a9c2",
        "IPY_MODEL_013e2e7b7d0745adb3c59fe378dcad46"
       ],
       "layout": "IPY_MODEL_4ef91e8d2a7c48bb989b7f96040c8adc"
      }
     },
     "9c8c6b6ad5964b338ff74d72f774d110": {
      "model_module": "@jupyter-widgets/base",
      "model_module_version": "1.2.0",
      "model_name": "LayoutModel",
      "state": {
       "_model_module": "@jupyter-widgets/base",
       "_model_module_version": "1.2.0",
       "_model_name": "LayoutModel",
       "_view_count": null,
       "_view_module": "@jupyter-widgets/base",
       "_view_module_version": "1.2.0",
       "_view_name": "LayoutView",
       "align_content": null,
       "align_items": null,
       "align_self": null,
       "border": null,
       "bottom": null,
       "display": null,
       "flex": null,
       "flex_flow": null,
       "grid_area": null,
       "grid_auto_columns": null,
       "grid_auto_flow": null,
       "grid_auto_rows": null,
       "grid_column": null,
       "grid_gap": null,
       "grid_row": null,
       "grid_template_areas": null,
       "grid_template_columns": null,
       "grid_template_rows": null,
       "height": null,
       "justify_content": null,
       "justify_items": null,
       "left": null,
       "margin": null,
       "max_height": null,
       "max_width": null,
       "min_height": null,
       "min_width": null,
       "object_fit": null,
       "object_position": null,
       "order": null,
       "overflow": null,
       "overflow_x": null,
       "overflow_y": null,
       "padding": null,
       "right": null,
       "top": null,
       "visibility": null,
       "width": null
      }
     },
     "a769299d33aa4bed82dbcb8ced62a9c2": {
      "model_module": "@jupyter-widgets/controls",
      "model_module_version": "1.5.0",
      "model_name": "FloatProgressModel",
      "state": {
       "_dom_classes": [],
       "_model_module": "@jupyter-widgets/controls",
       "_model_module_version": "1.5.0",
       "_model_name": "FloatProgressModel",
       "_view_count": null,
       "_view_module": "@jupyter-widgets/controls",
       "_view_module_version": "1.5.0",
       "_view_name": "ProgressView",
       "bar_style": "success",
       "description": "",
       "description_tooltip": null,
       "layout": "IPY_MODEL_db0dff275ff14a0dba211fddfb3434b8",
       "max": 3.0,
       "min": 0.0,
       "orientation": "horizontal",
       "style": "IPY_MODEL_ff9511354b514468949bba8b088465dc",
       "value": 3.0
      }
     },
     "b68c51b31ab14bfeb418d927a9953c72": {
      "model_module": "@jupyter-widgets/controls",
      "model_module_version": "1.5.0",
      "model_name": "DescriptionStyleModel",
      "state": {
       "_model_module": "@jupyter-widgets/controls",
       "_model_module_version": "1.5.0",
       "_model_name": "DescriptionStyleModel",
       "_view_count": null,
       "_view_module": "@jupyter-widgets/base",
       "_view_module_version": "1.2.0",
       "_view_name": "StyleView",
       "description_width": ""
      }
     },
     "be7834983610485ebeb08a73a7946916": {
      "model_module": "@jupyter-widgets/controls",
      "model_module_version": "1.5.0",
      "model_name": "HBoxModel",
      "state": {
       "_dom_classes": [],
       "_model_module": "@jupyter-widgets/controls",
       "_model_module_version": "1.5.0",
       "_model_name": "HBoxModel",
       "_view_count": null,
       "_view_module": "@jupyter-widgets/controls",
       "_view_module_version": "1.5.0",
       "_view_name": "HBoxView",
       "box_style": "",
       "children": [
        "IPY_MODEL_c1b5be21b3dd486abe0292dbd091f4f5",
        "IPY_MODEL_0b30f970c6f34f2d9c6b7a40339edc30",
        "IPY_MODEL_6de88ce38774442f90dec760acec8505"
       ],
       "layout": "IPY_MODEL_9c8c6b6ad5964b338ff74d72f774d110"
      }
     },
     "c1b5be21b3dd486abe0292dbd091f4f5": {
      "model_module": "@jupyter-widgets/controls",
      "model_module_version": "1.5.0",
      "model_name": "HTMLModel",
      "state": {
       "_dom_classes": [],
       "_model_module": "@jupyter-widgets/controls",
       "_model_module_version": "1.5.0",
       "_model_name": "HTMLModel",
       "_view_count": null,
       "_view_module": "@jupyter-widgets/controls",
       "_view_module_version": "1.5.0",
       "_view_name": "HTMLView",
       "description": "",
       "description_tooltip": null,
       "layout": "IPY_MODEL_3aeb96b0a2d84aafb68fa62e2d156667",
       "placeholder": "​",
       "style": "IPY_MODEL_5d07c98313b24979951038ca4717ffac",
       "value": "100%"
      }
     },
     "c1f6650722434d659569da3fa83038f5": {
      "model_module": "@jupyter-widgets/controls",
      "model_module_version": "1.5.0",
      "model_name": "DescriptionStyleModel",
      "state": {
       "_model_module": "@jupyter-widgets/controls",
       "_model_module_version": "1.5.0",
       "_model_name": "DescriptionStyleModel",
       "_view_count": null,
       "_view_module": "@jupyter-widgets/base",
       "_view_module_version": "1.2.0",
       "_view_name": "StyleView",
       "description_width": ""
      }
     },
     "db0dff275ff14a0dba211fddfb3434b8": {
      "model_module": "@jupyter-widgets/base",
      "model_module_version": "1.2.0",
      "model_name": "LayoutModel",
      "state": {
       "_model_module": "@jupyter-widgets/base",
       "_model_module_version": "1.2.0",
       "_model_name": "LayoutModel",
       "_view_count": null,
       "_view_module": "@jupyter-widgets/base",
       "_view_module_version": "1.2.0",
       "_view_name": "LayoutView",
       "align_content": null,
       "align_items": null,
       "align_self": null,
       "border": null,
       "bottom": null,
       "display": null,
       "flex": null,
       "flex_flow": null,
       "grid_area": null,
       "grid_auto_columns": null,
       "grid_auto_flow": null,
       "grid_auto_rows": null,
       "grid_column": null,
       "grid_gap": null,
       "grid_row": null,
       "grid_template_areas": null,
       "grid_template_columns": null,
       "grid_template_rows": null,
       "height": null,
       "justify_content": null,
       "justify_items": null,
       "left": null,
       "margin": null,
       "max_height": null,
       "max_width": null,
       "min_height": null,
       "min_width": null,
       "object_fit": null,
       "object_position": null,
       "order": null,
       "overflow": null,
       "overflow_x": null,
       "overflow_y": null,
       "padding": null,
       "right": null,
       "top": null,
       "visibility": null,
       "width": null
      }
     },
     "e8d5667312004fe4985571acbefa2b02": {
      "model_module": "@jupyter-widgets/controls",
      "model_module_version": "1.5.0",
      "model_name": "DescriptionStyleModel",
      "state": {
       "_model_module": "@jupyter-widgets/controls",
       "_model_module_version": "1.5.0",
       "_model_name": "DescriptionStyleModel",
       "_view_count": null,
       "_view_module": "@jupyter-widgets/base",
       "_view_module_version": "1.2.0",
       "_view_name": "StyleView",
       "description_width": ""
      }
     },
     "ff9511354b514468949bba8b088465dc": {
      "model_module": "@jupyter-widgets/controls",
      "model_module_version": "1.5.0",
      "model_name": "ProgressStyleModel",
      "state": {
       "_model_module": "@jupyter-widgets/controls",
       "_model_module_version": "1.5.0",
       "_model_name": "ProgressStyleModel",
       "_view_count": null,
       "_view_module": "@jupyter-widgets/base",
       "_view_module_version": "1.2.0",
       "_view_name": "StyleView",
       "bar_color": null,
       "description_width": ""
      }
     }
    },
    "version_major": 2,
    "version_minor": 0
   }
  }
 },
 "nbformat": 4,
 "nbformat_minor": 5
}
